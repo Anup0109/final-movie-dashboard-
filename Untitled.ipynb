{
 "cells": [
  {
   "cell_type": "code",
   "execution_count": 1,
   "id": "40901872-ab2e-4c59-b24f-bb95c84bec78",
   "metadata": {},
   "outputs": [
    {
     "name": "stdout",
     "output_type": "stream",
     "text": [
      "                          Series_Title                         Genre  \\\n",
      "0                 Trois couleurs: Bleu         Drama, Music, Mystery   \n",
      "1  Captain America: The Winter Soldier     Action, Adventure, Sci-Fi   \n",
      "2                       Wreck-It Ralph  Animation, Adventure, Comedy   \n",
      "3                          The Sandlot         Comedy, Drama, Family   \n",
      "4                               Gandhi     Biography, Drama, History   \n",
      "\n",
      "   IMDB_Rating              Director             Star1                 Star2  \\\n",
      "0          7.9  Krzysztof Kieslowski  Juliette Binoche  Zbigniew Zamachowski   \n",
      "1          7.7         Anthony Russo         Joe Russo           Chris Evans   \n",
      "2          7.7            Rich Moore    John C. Reilly         Jack McBrayer   \n",
      "3          7.8    David Mickey Evans         Tom Guiry            Mike Vitar   \n",
      "4          8.0  Richard Attenborough      Ben Kingsley          John Gielgud   \n",
      "\n",
      "               Star3               Star4        Gross Platform  \n",
      "0        Julie Delpy       Benoît Régent    1,324,974  Netflix  \n",
      "1  Samuel L. Jackson  Scarlett Johansson  259,766,572  Disney+  \n",
      "2         Jane Lynch     Sarah Silverman  189,422,889  Netflix  \n",
      "3        Art LaFleur       Patrick Renna   32,416,586     Hulu  \n",
      "4  Rohini Hattangadi         Roshan Seth   52,767,889  Disney+  \n",
      "<class 'pandas.core.frame.DataFrame'>\n",
      "RangeIndex: 109 entries, 0 to 108\n",
      "Data columns (total 10 columns):\n",
      " #   Column        Non-Null Count  Dtype  \n",
      "---  ------        --------------  -----  \n",
      " 0   Series_Title  109 non-null    object \n",
      " 1   Genre         109 non-null    object \n",
      " 2   IMDB_Rating   109 non-null    float64\n",
      " 3   Director      109 non-null    object \n",
      " 4   Star1         109 non-null    object \n",
      " 5   Star2         109 non-null    object \n",
      " 6   Star3         109 non-null    object \n",
      " 7   Star4         109 non-null    object \n",
      " 8   Gross         109 non-null    object \n",
      " 9   Platform      109 non-null    object \n",
      "dtypes: float64(1), object(9)\n",
      "memory usage: 8.6+ KB\n",
      "None\n"
     ]
    }
   ],
   "source": [
    "import pandas as pd\n",
    "import numpy as np\n",
    "\n",
    "# Load the dataset\n",
    "file_path = r\"C:\\Users\\anupt\\OneDrive\\Desktop\\MovieDashboard\\Dashboard_Dataset.csv\"\n",
    "df = pd.read_csv(file_path)\n",
    "\n",
    "# Display the first few rows and dataset structure\n",
    "print(df.head())\n",
    "print(df.info())\n",
    "\n"
   ]
  },
  {
   "cell_type": "code",
   "execution_count": 2,
   "id": "ed6932b9-823f-49e0-a714-93b0554f7285",
   "metadata": {},
   "outputs": [
    {
     "name": "stdout",
     "output_type": "stream",
     "text": [
      "Series_Title    0\n",
      "Genre           0\n",
      "IMDB_Rating     0\n",
      "Director        0\n",
      "Star1           0\n",
      "Star2           0\n",
      "Star3           0\n",
      "Star4           0\n",
      "Gross           0\n",
      "Platform        0\n",
      "dtype: int64\n"
     ]
    }
   ],
   "source": [
    "# Clean the 'Gross' column\n",
    "df['Gross'] = df['Gross'].str.replace(',', '').replace('Unknown', '0').astype(float)\n",
    "\n",
    "# Check for missing values\n",
    "print(df.isnull().sum())\n"
   ]
  },
  {
   "cell_type": "code",
   "execution_count": 3,
   "id": "72cfdaf2-75e6-40f3-98b2-383d583766eb",
   "metadata": {},
   "outputs": [
    {
     "name": "stdout",
     "output_type": "stream",
     "text": [
      "Cleaned dataset saved as 'cleaned_Dashboard_Dataset.csv'\n"
     ]
    }
   ],
   "source": [
    "# Save cleaned dataset\n",
    "df.to_csv(r\"C:\\Users\\anupt\\OneDrive\\Desktop\\MovieDashboard\\cleaned_Dashboard_Dataset.csv\", index=False)\n",
    "print(\"Cleaned dataset saved as 'cleaned_Dashboard_Dataset.csv'\")\n"
   ]
  },
  {
   "cell_type": "code",
   "execution_count": null,
   "id": "d24383b7-be7b-4174-88a3-b3c0a4c090b9",
   "metadata": {},
   "outputs": [],
   "source": []
  }
 ],
 "metadata": {
  "kernelspec": {
   "display_name": "Python 3 (ipykernel)",
   "language": "python",
   "name": "python3"
  },
  "language_info": {
   "codemirror_mode": {
    "name": "ipython",
    "version": 3
   },
   "file_extension": ".py",
   "mimetype": "text/x-python",
   "name": "python",
   "nbconvert_exporter": "python",
   "pygments_lexer": "ipython3",
   "version": "3.13.0"
  }
 },
 "nbformat": 4,
 "nbformat_minor": 5
}
